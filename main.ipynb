{
 "cells": [
  {
   "cell_type": "code",
   "execution_count": 2,
   "metadata": {},
   "outputs": [],
   "source": [
    "\n",
    "from __future__ import barry_as_FLUFL\n",
    "\n",
    "__version__ = '0.0.1'\n",
    "\n",
    "import sqlite3\n",
    "import pandas as pd \n",
    "import sklearn\n",
    "import seaborn as sns # corregir luego para no ocupar tanto espacio\n",
    "# from matplotlib import pyplot  \n"
   ]
  },
  {
   "cell_type": "code",
   "execution_count": null,
   "metadata": {},
   "outputs": [],
   "source": [
    "# CSV Load\n",
    "file_path = './base_usuarios/ENFR-2009 Base Usuario.csv'\n",
    "df = pd.read_csv(file_path, delimiter='|', index_col=1) \n",
    "df.replace(' ', None)"
   ]
  },
  {
   "cell_type": "code",
   "execution_count": 4,
   "metadata": {},
   "outputs": [
    {
     "data": {
      "text/plain": [
       "34732"
      ]
     },
     "execution_count": 4,
     "metadata": {},
     "output_type": "execute_result"
    }
   ],
   "source": [
    "conn = sqlite3.connect('dwh.sqlite3')\n",
    "df.to_sql('ft_survey', conn, if_exists='replace', index=False)\n"
   ]
  }
 ],
 "metadata": {
  "kernelspec": {
   "display_name": ".venv",
   "language": "python",
   "name": "python3"
  },
  "language_info": {
   "codemirror_mode": {
    "name": "ipython",
    "version": 3
   },
   "file_extension": ".py",
   "mimetype": "text/x-python",
   "name": "python",
   "nbconvert_exporter": "python",
   "pygments_lexer": "ipython3",
   "version": "3.12.6"
  }
 },
 "nbformat": 4,
 "nbformat_minor": 2
}
